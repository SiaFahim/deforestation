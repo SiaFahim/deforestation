{
 "cells": [
  {
   "cell_type": "markdown",
   "metadata": {},
   "source": [
    "# Understanding Amazon rainforest from space\n",
    "### input data: training on a single band (nir) TIFF image file with size of 128 x 128\n",
    "### architecture: (3 CNN layers + 3 MAX-pulling + 3 drop outs) + flatten + ann "
   ]
  },
  {
   "cell_type": "markdown",
   "metadata": {},
   "source": [
    "The first step is pre-processing of our training data. Let's breakdown steps involved in preprocessing for this scenario as below:\n",
    "\n",
    "1. get the file paths\n",
    "2. load TIFF images\n",
    "3. extract Near Inferared Band from bgrn\n",
    "\n",
    "4. define hyper parameters\n",
    "\n",
    "5. transform training data to matrices; returns img_array and targets as normalaized numpy arrays\n",
    "\n",
    "6. get train matrices; returns x_train, y_train and lables_map\n",
    "\n",
    "7. get train tensor; returns train_tensor as a numpy array of (x_train, y_train and lables_map)"
   ]
  },
  {
   "cell_type": "markdown",
   "metadata": {},
   "source": [
    "#### 0. import required packages"
   ]
  },
  {
   "cell_type": "code",
   "execution_count": 2,
   "metadata": {
    "collapsed": true
   },
   "outputs": [],
   "source": [
    "import os\n",
    "import sys\n",
    "import cv2\n",
    "import gc\n",
    "import numpy as np\n",
    "import pandas as pd\n",
    "from tqdm import tqdm\n",
    "from itertools import chain\n",
    "from multiprocessing import cpu_count\n",
    "from concurrent.futures import ThreadPoolExecutor"
   ]
  },
  {
   "cell_type": "markdown",
   "metadata": {},
   "source": [
    "#### 1. get the input file path"
   ]
  },
  {
   "cell_type": "code",
   "execution_count": 4,
   "metadata": {
    "collapsed": true
   },
   "outputs": [],
   "source": [
    "def get_tif_data_files_paths():\n",
    "    \"\"\"\n",
    "    Returns the input file folders path for .tiff files\n",
    "    \n",
    "    :return: The input file paths as list [train_tif_dir, test_tif_dir, train_tif_sample, train_csv_file]\n",
    "    \"\"\"\n",
    "\n",
    "    data_root_folder = \"/root/input\"\n",
    "    train_tif_dir = os.path.join(data_root_folder, 'train-tif-v2')\n",
    "    test_tif_dir = os.path.join(data_root_folder, 'test-tif-v2')\n",
    "    train_tif_sample = os.path.join(data_root_folder, 'train-tif-sample')\n",
    "    train_csv_file = os.path.join(data_root_folder, 'train_v2.csv')\n",
    "\n",
    "    assert os.path.exists(data_root_folder), \"The {} folder does not exist\".format(data_root_folder)\n",
    "    assert os.path.exists(train_tif_dir), \"The {} folder does not exist\".format(train_tif_dir)\n",
    "    assert os.path.exists(test_tif_dir), \"The {} folder does not exist\".format(test_tif_dir)\n",
    "    assert os.path.exists(train_tif_sample), \"The {} file does not exist\".format(train_tif_sample)\n",
    "    assert os.path.exists(train_csv_file), \"The {} file does not exist\".format(train_csv_file)\n",
    "    return [train_tif_dir, test_tif_dir, train_tif_sample, train_csv_file]"
   ]
  },
  {
   "cell_type": "markdown",
   "metadata": {},
   "source": [
    "let's test our function to make sure it return the right stuff."
   ]
  },
  {
   "cell_type": "code",
   "execution_count": 6,
   "metadata": {},
   "outputs": [
    {
     "name": "stdout",
     "output_type": "stream",
     "text": [
      "['/root/input/train-tif-v2', '/root/input/test-tif-v2', '/root/input/train-tif-sample', '/root/input/train_v2.csv']\n"
     ]
    }
   ],
   "source": [
    "print(get_tif_data_files_paths())"
   ]
  },
  {
   "cell_type": "code",
   "execution_count": null,
   "metadata": {
    "collapsed": true
   },
   "outputs": [],
   "source": []
  }
 ],
 "metadata": {
  "kernelspec": {
   "display_name": "Python 3",
   "language": "python",
   "name": "python3"
  },
  "language_info": {
   "codemirror_mode": {
    "name": "ipython",
    "version": 3
   },
   "file_extension": ".py",
   "mimetype": "text/x-python",
   "name": "python",
   "nbconvert_exporter": "python",
   "pygments_lexer": "ipython3",
   "version": "3.5.2"
  }
 },
 "nbformat": 4,
 "nbformat_minor": 2
}
