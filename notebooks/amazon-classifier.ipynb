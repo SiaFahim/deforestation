{
 "cells": [
  {
   "cell_type": "code",
   "execution_count": null,
   "metadata": {},
   "outputs": [],
   "source": [
    "import numpy as np\n",
    "import os\n",
    "\n",
    "from sklearn.metrics import fbeta_score\n",
    "from sklearn.model_selection import train_test_split\n",
    "\n",
    "import tensorflow.contrib.keras.api.keras as k\n",
    "from tensorflow.contrib.keras.api.keras.models import Sequential\n",
    "from tensorflow.contrib.keras.api.keras.layers import Dense, Dropout, Flatten\n",
    "from tensorflow.contrib.keras.api.keras.layers import Conv2D, MaxPooling2D, BatchNormalization\n",
    "from tensorflow.contrib.keras.api.keras.optimizers import Adam\n",
    "from tensorflow.contrib.keras.api.keras.callbacks import Callback\n",
    "from tensorflow.contrib.keras import backend"
   ]
  },
  {
   "cell_type": "code",
   "execution_count": null,
   "metadata": {
    "collapsed": true
   },
   "outputs": [],
   "source": [
    "class LossHistory(Callback):\n",
    "    def __init__(self):\n",
    "        super().__init__()\n",
    "        self.train_losses = []\n",
    "        self.val_losses = []\n",
    "\n",
    "    def on_epoch_end(self, epoch, logs={}):\n",
    "        self.train_losses.append(logs.get('loss'))\n",
    "        self.val_losses.append(logs.get('val_loss'))"
   ]
  },
  {
   "cell_type": "code",
   "execution_count": null,
   "metadata": {
    "collapsed": true
   },
   "outputs": [],
   "source": [
    "class AmazonKerasClassifier:\n",
    "    def __init__(self):\n",
    "        self.losses = []\n",
    "        self.classifier = Sequential()\n",
    "\n",
    "    def add_conv_layer(self, img_size=(32, 32), img_channels=3):\n",
    "        self.classifier.add(BatchNormalization(input_shape=(*img_size, img_channels)))\n",
    "        self.classifier.add(Conv2D(32, (3, 3), activation='relu'))\n",
    "        self.classifier.add(Conv2D(64, (3, 3), activation='relu'))\n",
    "        self.classifier.add(MaxPooling2D(pool_size=(2, 2)))\n",
    "        self.classifier.add(Dropout(0.25))\n",
    "        self.classifier.add(Conv2D(64, (3, 3), activation='relu'))\n",
    "        self.classifier.add(Conv2D(64, (3, 3), activation='relu'))\n",
    "        self.classifier.add(MaxPooling2D(pool_size=(2, 2)))\n",
    "        self.classifier.add(Dropout(0.25))\n",
    "        self.classifier.add(Conv2D(32, (3, 3), activation='relu'))\n",
    "        self.classifier.add(Conv2D(16, (2, 2), activation='relu'))\n",
    "        self.classifier.add(MaxPooling2D(pool_size=(2, 2)))\n",
    "        self.classifier.add(Dropout(0.25))\n",
    "\n",
    "    def add_flatten_layer(self):\n",
    "        self.classifier.add(Flatten())\n",
    "\n",
    "    def add_ann_layer(self, output_size):\n",
    "        self.classifier.add(Dense(256, activation='relu'))\n",
    "        self.classifier.add(Dropout(0.5))\n",
    "        self.classifier.add(Dense(512, activation='relu'))\n",
    "        self.classifier.add(Dropout(0.5))\n",
    "        self.classifier.add(Dense(output_size, activation='sigmoid'))\n",
    "\n",
    "    def _get_fbeta_score(self, classifier, X_valid, y_valid):\n",
    "        p_valid = classifier.predict(X_valid)\n",
    "        return fbeta_score(y_valid, np.array(p_valid) > 0.2, beta=2, average='samples')\n",
    "\n",
    "    def train_model(self, x_train, y_train, epoch=5, batch_size=128, validation_split_size=0.2, train_callbacks=()):\n",
    "        history = LossHistory()\n",
    "\n",
    "        X_train, X_valid, y_train, y_valid = train_test_split(x_train, y_train,\n",
    "                                                              test_size=validation_split_size)\n",
    "        self.classifier.compile(loss='binary_crossentropy', optimizer='adam', metrics=['accuracy'])\n",
    "\n",
    "        self.classifier.fit(X_train, y_train,\n",
    "                            batch_size=batch_size,\n",
    "                            epochs=epoch,\n",
    "                            verbose=1,\n",
    "                            validation_data=(X_valid, y_valid),\n",
    "                            callbacks=[history, *train_callbacks])\n",
    "        fbeta_score = self._get_fbeta_score(self.classifier, X_valid, y_valid)\n",
    "        return [history.train_losses, history.val_losses, fbeta_score]\n",
    "\n",
    "    def predict(self, x_test):\n",
    "        predictions = self.classifier.predict(x_test)\n",
    "        return predictions\n",
    "\n",
    "    def map_predictions(self, predictions, labels_map, thresholds):\n",
    "        \"\"\"\n",
    "        Return the predictions mapped to their labels\n",
    "        :param predictions: the predictions from the predict() method\n",
    "        :param labels_map: the map \n",
    "        :param thresholds: The threshold of each class to be considered as existing or not existing\n",
    "        :return: the predictions list mapped to their labels\n",
    "        \"\"\"\n",
    "        predictions_labels = []\n",
    "        for prediction in predictions:\n",
    "            labels = [labels_map[i] for i, value in enumerate(prediction) if value > thresholds[i]]\n",
    "            predictions_labels.append(labels)\n",
    "\n",
    "        return predictions_labels\n",
    "\n",
    "    def close(self):\n",
    "        backend.clear_session()\n"
   ]
  }
 ],
 "metadata": {
  "kernelspec": {
   "display_name": "Python 3",
   "language": "python",
   "name": "python3"
  },
  "language_info": {
   "codemirror_mode": {
    "name": "ipython",
    "version": 3
   },
   "file_extension": ".py",
   "mimetype": "text/x-python",
   "name": "python",
   "nbconvert_exporter": "python",
   "pygments_lexer": "ipython3",
   "version": "3.5.2"
  }
 },
 "nbformat": 4,
 "nbformat_minor": 2
}
