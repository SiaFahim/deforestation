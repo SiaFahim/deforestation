{
 "cells": [
  {
   "cell_type": "markdown",
   "metadata": {},
   "source": [
    "# Understanding Amazon rainforest from space\n",
    "### input data: training on a single band (nir) TIFF image file with size of 128 x 128\n",
    "### architecture: (3 CNN layers + 3 MAX-pulling + 3 drop outs) + flatten + ann "
   ]
  },
  {
   "cell_type": "markdown",
   "metadata": {},
   "source": [
    "The first step is pre-processing of our training data. Let's breakdown steps involved in preprocessing for this scenario as below:\n",
    "\n",
    "1. get the file paths\n",
    "2. load TIFF images\n",
    "3. extract Near Inferared Band from bgrn\n",
    "\n",
    "4. define hyper parameters\n",
    "\n",
    "5. transform training data to matrices; returns img_array and targets as normalaized numpy arrays\n",
    "\n",
    "6. get train matrices; returns x_train, y_train and lables_map\n",
    "\n",
    "7. get train tensor; returns train_tensor as a numpy array of (x_train, y_train and lables_map)"
   ]
  },
  {
   "cell_type": "markdown",
   "metadata": {},
   "source": [
    "#### 0. import required packages"
   ]
  },
  {
   "cell_type": "code",
   "execution_count": 1,
   "metadata": {
    "collapsed": true
   },
   "outputs": [],
   "source": [
    "import os\n",
    "import sys\n",
    "import cv2\n",
    "import gc\n",
    "import scipy\n",
    "import subprocess\n",
    "import numpy as np\n",
    "import pandas as pd\n",
    "import seaborn as sns\n",
    "import matplotlib.pyplot as plt\n",
    "import matplotlib.image as mpimg\n",
    "\n",
    "from six import string_types\n",
    "from os.path import exists\n",
    "from tqdm import tqdm\n",
    "from itertools import chain\n",
    "from multiprocessing import cpu_count\n",
    "from concurrent.futures import ThreadPoolExecutor\n",
    "from skimage import io\n",
    "from scipy import ndimage\n",
    "from IPython.display import display\n",
    "%matplotlib inline"
   ]
  },
  {
   "cell_type": "markdown",
   "metadata": {},
   "source": [
    "#### 1. get the input file path"
   ]
  },
  {
   "cell_type": "code",
   "execution_count": 2,
   "metadata": {
    "collapsed": true
   },
   "outputs": [],
   "source": [
    "def get_tif_data_files_paths():\n",
    "    \"\"\"\n",
    "    Returns the input file folders path for .tiff files\n",
    "    \n",
    "    :return: The input file paths as list [train_tif_dir, test_tif_dir, train_tif_sample, train_csv_file]\n",
    "    \"\"\"\n",
    "\n",
    "    data_folder = \"/root/input\"\n",
    "    train_tif_dir = os.path.join(data_folder, 'train-tif-v2')\n",
    "    test_tif_dir = os.path.join(data_folder, 'test-tif-v2')\n",
    "    train_tif_sample = os.path.join(data_folder, 'train-tif-sample')\n",
    "    train_csv_file = os.path.join(data_folder, 'train_v2.csv')\n",
    "\n",
    "    assert os.path.exists(data_folder), \"The {} folder does not exist\".format(data_folder)\n",
    "    assert os.path.exists(train_tif_dir), \"The {} folder does not exist\".format(train_tif_dir)\n",
    "    assert os.path.exists(test_tif_dir), \"The {} folder does not exist\".format(test_tif_dir)\n",
    "    assert os.path.exists(train_tif_sample), \"The {} file does not exist\".format(train_tif_sample)\n",
    "    assert os.path.exists(train_csv_file), \"The {} file does not exist\".format(train_csv_file)\n",
    "    return [train_tif_dir, test_tif_dir, train_tif_sample, train_csv_file]"
   ]
  },
  {
   "cell_type": "markdown",
   "metadata": {},
   "source": [
    "let's test our function to make sure it return the right stuff."
   ]
  },
  {
   "cell_type": "code",
   "execution_count": 3,
   "metadata": {},
   "outputs": [
    {
     "name": "stdout",
     "output_type": "stream",
     "text": [
      "['/root/input/train-tif-v2', '/root/input/test-tif-v2', '/root/input/train-tif-sample', '/root/input/train_v2.csv']\n"
     ]
    }
   ],
   "source": [
    "print(get_tif_data_files_paths())"
   ]
  },
  {
   "cell_type": "markdown",
   "metadata": {},
   "source": [
    "now we need to create a list of file names in our train directory so we can iterate over every file to extract our needed band."
   ]
  },
  {
   "cell_type": "code",
   "execution_count": 4,
   "metadata": {
    "collapsed": true
   },
   "outputs": [],
   "source": [
    "train_tif_dir = get_tif_data_files_paths()[0] #[0] to indicate which directory we want. \n",
    "train_tif_file_path_list = os.listdir(train_tif_dir)"
   ]
  },
  {
   "cell_type": "markdown",
   "metadata": {},
   "source": [
    "let's inspect our list by printing out it's lenght"
   ]
  },
  {
   "cell_type": "code",
   "execution_count": 5,
   "metadata": {},
   "outputs": [
    {
     "name": "stdout",
     "output_type": "stream",
     "text": [
      "40479\n"
     ]
    }
   ],
   "source": [
    "print(len(train_tif_file_path_list))"
   ]
  },
  {
   "cell_type": "markdown",
   "metadata": {},
   "source": [
    "nir = bgrn_image[:, :, 3]"
   ]
  },
  {
   "cell_type": "code",
   "execution_count": 6,
   "metadata": {},
   "outputs": [
    {
     "name": "stdout",
     "output_type": "stream",
     "text": [
      "        image_name                                               tags\n",
      "0          train_0                                       haze primary\n",
      "1          train_1                    agriculture clear primary water\n",
      "2          train_2                                      clear primary\n",
      "3          train_3                                      clear primary\n",
      "4          train_4          agriculture clear habitation primary road\n",
      "5          train_5                                 haze primary water\n",
      "6          train_6        agriculture clear cultivation primary water\n",
      "7          train_7                                       haze primary\n",
      "8          train_8              agriculture clear cultivation primary\n",
      "9          train_9         agriculture clear cultivation primary road\n",
      "10        train_10         agriculture clear primary slash_burn water\n",
      "11        train_11                                clear primary water\n",
      "12        train_12                                             cloudy\n",
      "13        train_13                                      clear primary\n",
      "14        train_14                                             cloudy\n",
      "15        train_15                                      clear primary\n",
      "16        train_16                                      clear primary\n",
      "17        train_17                              partly_cloudy primary\n",
      "18        train_18                                      clear primary\n",
      "19        train_19                     agriculture clear primary road\n",
      "20        train_20                    agriculture clear primary water\n",
      "21        train_21                           clear primary road water\n",
      "22        train_22                              partly_cloudy primary\n",
      "23        train_23                     agriculture clear primary road\n",
      "24        train_24            conventional_mine partly_cloudy primary\n",
      "25        train_25                                      clear primary\n",
      "26        train_26                                             cloudy\n",
      "27        train_27            agriculture partly_cloudy primary water\n",
      "28        train_28                                      clear primary\n",
      "29        train_29                              partly_cloudy primary\n",
      "...            ...                                                ...\n",
      "40449  train_40449                                clear primary water\n",
      "40450  train_40450  agriculture cultivation partly_cloudy primary ...\n",
      "40451  train_40451                                      clear primary\n",
      "40452  train_40452                                      clear primary\n",
      "40453  train_40453                       artisinal_mine clear primary\n",
      "40454  train_40454                                      clear primary\n",
      "40455  train_40455  agriculture partly_cloudy primary road convent...\n",
      "40456  train_40456                                      clear primary\n",
      "40457  train_40457         clear primary road selective_logging water\n",
      "40458  train_40458                     agriculture clear primary road\n",
      "40459  train_40459                                clear primary water\n",
      "40460  train_40460                                      clear primary\n",
      "40461  train_40461                                             cloudy\n",
      "40462  train_40462                                      clear primary\n",
      "40463  train_40463                           agriculture haze primary\n",
      "40464  train_40464             agriculture partly_cloudy primary road\n",
      "40465  train_40465                            blow_down clear primary\n",
      "40466  train_40466                                      clear primary\n",
      "40467  train_40467                     agriculture clear primary road\n",
      "40468  train_40468                          agriculture clear primary\n",
      "40469  train_40469                                 haze primary water\n",
      "40470  train_40470                      clear habitation primary road\n",
      "40471  train_40471                                      clear primary\n",
      "40472  train_40472                          agriculture clear primary\n",
      "40473  train_40473          agriculture clear habitation primary road\n",
      "40474  train_40474                                      clear primary\n",
      "40475  train_40475                                             cloudy\n",
      "40476  train_40476                          agriculture clear primary\n",
      "40477  train_40477                     agriculture clear primary road\n",
      "40478  train_40478      agriculture cultivation partly_cloudy primary\n",
      "\n",
      "[40479 rows x 2 columns]\n"
     ]
    }
   ],
   "source": [
    "labels_df = pd.read_csv(get_tif_data_files_paths()[3])\n",
    "print(labels_df)"
   ]
  },
  {
   "cell_type": "code",
   "execution_count": 7,
   "metadata": {},
   "outputs": [
    {
     "name": "stdout",
     "output_type": "stream",
     "text": [
      "['agriculture', 'artisinal_mine', 'bare_ground', 'blooming', 'blow_down', 'clear', 'cloudy', 'conventional_mine', 'cultivation', 'habitation', 'haze', 'partly_cloudy', 'primary', 'road', 'selective_logging', 'slash_burn', 'water']\n"
     ]
    }
   ],
   "source": [
    "labels = sorted(set(chain.from_iterable([tags.split(\" \") for tags in labels_df['tags'].values])))\n",
    "print(labels)"
   ]
  },
  {
   "cell_type": "code",
   "execution_count": 8,
   "metadata": {},
   "outputs": [
    {
     "name": "stdout",
     "output_type": "stream",
     "text": [
      "{'blow_down': 4, 'road': 13, 'primary': 12, 'blooming': 3, 'slash_burn': 15, 'agriculture': 0, 'water': 16, 'artisinal_mine': 1, 'bare_ground': 2, 'cultivation': 8, 'partly_cloudy': 11, 'habitation': 9, 'cloudy': 6, 'conventional_mine': 7, 'clear': 5, 'selective_logging': 14, 'haze': 10}\n"
     ]
    }
   ],
   "source": [
    "labels_map = {l: i for i, l in enumerate(labels)}\n",
    "print(labels_map)"
   ]
  },
  {
   "cell_type": "code",
   "execution_count": 9,
   "metadata": {},
   "outputs": [
    {
     "name": "stdout",
     "output_type": "stream",
     "text": [
      "40479\n",
      "40479\n",
      "/root/input/train-tif-v2/train_1.tif\n"
     ]
    }
   ],
   "source": [
    "files_path = []\n",
    "tags_list = []\n",
    "for file_name, tags in labels_df.values:\n",
    "    files_path.append('{}/{}.tif'.format(train_tif_dir, file_name))\n",
    "    tags_list.append(tags)\n",
    "print (len(files_path))\n",
    "print (len(tags_list))\n",
    "print (files_path[1])"
   ]
  },
  {
   "cell_type": "markdown",
   "metadata": {},
   "source": [
    "Now let's extyract each band, sort them as rgbn and plot each band"
   ]
  },
  {
   "cell_type": "code",
   "execution_count": 34,
   "metadata": {},
   "outputs": [
    {
     "name": "stdout",
     "output_type": "stream",
     "text": [
      "[[6621 6596 6648 ..., 5970 5910 5812]\n",
      " [6352 6440 6554 ..., 6315 6328 6156]\n",
      " [6020 6201 6389 ..., 6494 6564 6358]\n",
      " ..., \n",
      " [6290 6230 6159 ..., 6209 5969 5814]\n",
      " [6331 6305 6250 ..., 6323 6164 6041]\n",
      " [6339 6356 6292 ..., 6424 6363 6281]]\n"
     ]
    }
   ],
   "source": [
    "# note the initial bgrn band ordering\n",
    "\n",
    "#bgrn_image = (io.imread(files_path[103]))\n",
    "\n",
    "train_img = io.imread(files_path[0])[:,:,3]\n",
    "print(train_img)"
   ]
  },
  {
   "cell_type": "markdown",
   "metadata": {},
   "source": [
    "let's take a look at the shape of nir band. this shows that our images are 256 x 256"
   ]
  },
  {
   "cell_type": "markdown",
   "metadata": {},
   "source": [
    "a glance at actual values of the nir band. These values are raw sensory data as recorded"
   ]
  },
  {
   "cell_type": "markdown",
   "metadata": {},
   "source": [
    "the next setp is to iterate over every image and grab the nir band and put them all into img_array"
   ]
  }
 ],
 "metadata": {
  "kernelspec": {
   "display_name": "Python 3",
   "language": "python",
   "name": "python3"
  },
  "language_info": {
   "codemirror_mode": {
    "name": "ipython",
    "version": 3
   },
   "file_extension": ".py",
   "mimetype": "text/x-python",
   "name": "python",
   "nbconvert_exporter": "python",
   "pygments_lexer": "ipython3",
   "version": "3.5.2"
  }
 },
 "nbformat": 4,
 "nbformat_minor": 2
}
